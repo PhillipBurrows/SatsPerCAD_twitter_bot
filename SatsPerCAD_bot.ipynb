{
 "cells": [
  {
   "cell_type": "code",
   "execution_count": 1,
   "metadata": {},
   "outputs": [
    {
     "name": "stdout",
     "output_type": "stream",
     "text": [
      "{'name': 'Bitcoin', 'startDate': 1278979200, 'description': 'Bitcoin (BTC) is a cryptocurrency launched in 2010. Users are able to generate BTC through the process of mining. Bitcoin has a current supply of 19,728,150. The last known price of Bitcoin is 66,698.90839951 USD and is up 4.60 over the last 24 hours. It is currently trading on 11608 active market(s) with $33,650,711,755.13 traded over the last 24 hours. More information can be found at https://bitcoin.org/.', 'maxAge': 86400, 'priceHint': 2, 'previousClose': 92328.65, 'open': 92328.65, 'dayLow': 92124.8, 'dayHigh': 92654.73, 'regularMarketPreviousClose': 92328.65, 'regularMarketOpen': 92328.65, 'regularMarketDayLow': 92124.8, 'regularMarketDayHigh': 92654.73, 'volume': 24478990336, 'regularMarketVolume': 24478990336, 'averageVolume': 37074199483, 'averageVolume10days': 40502577085, 'averageDailyVolume10Day': 40502577085, 'marketCap': 1823946309632, 'fiftyTwoWeekLow': 33856.79, 'fiftyTwoWeekHigh': 99397.766, 'fiftyDayAverage': 87329.51, 'twoHundredDayAverage': 81317.445, 'currency': 'CAD', 'fromCurrency': 'BTC', 'toCurrency': 'CAD=X', 'lastMarket': 'CoinMarketCap', 'coinMarketCapLink': 'https://coinmarketcap.com/currencies/bitcoin', 'volume24Hr': 24478990336, 'volumeAllCurrencies': 24478990336, 'circulatingSupply': 19728550, 'exchange': 'CCC', 'quoteType': 'CRYPTOCURRENCY', 'symbol': 'BTC-CAD', 'underlyingSymbol': 'BTC-CAD', 'shortName': 'Bitcoin CAD', 'longName': 'Bitcoin CAD', 'firstTradeDateEpochUtc': 1410912000, 'timeZoneFullName': 'UTC', 'timeZoneShortName': 'UTC', 'uuid': 'a3dbf4ac-2189-3c82-8354-8824ff272308', 'messageBoardId': 'finmb_BTC_CCC', 'trailingPegRatio': None}\n"
     ]
    }
   ],
   "source": [
    "import yfinance as yf, pandas as pd, plotly.express as px\n",
    "\n",
    "# get stock info\n",
    "BTCCAD = yf.Ticker(\"BTC-CAD\")\n",
    "print(BTCCAD.info)\n",
    "\n",
    "# get historical market data\n",
    "CADBTC_df = BTCCAD.history(period=\"1y\", interval='1h')\n",
    "CADBTC_df = CADBTC_df.drop(columns=['Dividends','Stock Splits','Volume'])\n",
    "\n",
    "#display(CADBTC_df)"
   ]
  },
  {
   "cell_type": "code",
   "execution_count": 2,
   "metadata": {},
   "outputs": [],
   "source": [
    "#from datetime import datetime\n",
    "from dateutil import tz\n",
    "\n",
    "def convert_UTC_to_NY(UTCdatetime):\n",
    "    # METHOD 1: Hardcode zones:\n",
    "    from_zone = tz.gettz('UTC')\n",
    "    to_zone = tz.gettz('America/New_York')\n",
    "\n",
    "    # Tell the datetime object that it's in UTC time zone since datetime objects are 'naive' by default\n",
    "    utc = UTCdatetime.replace(tzinfo=from_zone)\n",
    "\n",
    "    # Convert time zone\n",
    "    central_time = utc.astimezone(to_zone)\n",
    "    return central_time\n",
    "\n",
    "CADBTC_df.index = CADBTC_df.index.map(convert_UTC_to_NY)\n",
    "\n",
    "#CADBTC_df"
   ]
  },
  {
   "cell_type": "code",
   "execution_count": 3,
   "metadata": {},
   "outputs": [],
   "source": [
    "#filter table for 4pm on fridays\n",
    "CADBTC_df['Day_of_week'] = CADBTC_df.index.strftime(\"%A\")\n",
    "CADBTC_df = CADBTC_df[CADBTC_df['Day_of_week'] == \"Friday\"]\n",
    "CADBTC_df = CADBTC_df.at_time('16:00')\n",
    "CADBTC_df = CADBTC_df.drop(columns=[\"Day_of_week\",\"Open\",\"Low\",\"High\"])\n",
    "\n",
    "#CADBTC_df"
   ]
  },
  {
   "cell_type": "code",
   "execution_count": 4,
   "metadata": {
    "scrolled": true
   },
   "outputs": [
    {
     "data": {
      "text/html": [
       "<div>\n",
       "<style scoped>\n",
       "    .dataframe tbody tr th:only-of-type {\n",
       "        vertical-align: middle;\n",
       "    }\n",
       "\n",
       "    .dataframe tbody tr th {\n",
       "        vertical-align: top;\n",
       "    }\n",
       "\n",
       "    .dataframe thead th {\n",
       "        text-align: right;\n",
       "    }\n",
       "</style>\n",
       "<table border=\"1\" class=\"dataframe\">\n",
       "  <thead>\n",
       "    <tr style=\"text-align: right;\">\n",
       "      <th></th>\n",
       "      <th>Close</th>\n",
       "    </tr>\n",
       "    <tr>\n",
       "      <th>Datetime</th>\n",
       "      <th></th>\n",
       "    </tr>\n",
       "  </thead>\n",
       "  <tbody>\n",
       "    <tr>\n",
       "      <th>2023-07-21 16:00:00-04:00</th>\n",
       "      <td>2530.214317</td>\n",
       "    </tr>\n",
       "    <tr>\n",
       "      <th>2023-07-28 16:00:00-04:00</th>\n",
       "      <td>2571.937390</td>\n",
       "    </tr>\n",
       "    <tr>\n",
       "      <th>2023-08-04 16:00:00-04:00</th>\n",
       "      <td>2583.780861</td>\n",
       "    </tr>\n",
       "    <tr>\n",
       "      <th>2023-08-11 16:00:00-04:00</th>\n",
       "      <td>2531.107409</td>\n",
       "    </tr>\n",
       "    <tr>\n",
       "      <th>2023-08-18 16:00:00-04:00</th>\n",
       "      <td>2826.960635</td>\n",
       "    </tr>\n",
       "    <tr>\n",
       "      <th>2023-08-25 16:00:00-04:00</th>\n",
       "      <td>2820.828469</td>\n",
       "    </tr>\n",
       "    <tr>\n",
       "      <th>2023-09-01 16:00:00-04:00</th>\n",
       "      <td>2855.144893</td>\n",
       "    </tr>\n",
       "    <tr>\n",
       "      <th>2023-09-08 16:00:00-04:00</th>\n",
       "      <td>2831.505095</td>\n",
       "    </tr>\n",
       "    <tr>\n",
       "      <th>2023-09-15 16:00:00-04:00</th>\n",
       "      <td>2797.878727</td>\n",
       "    </tr>\n",
       "    <tr>\n",
       "      <th>2023-09-22 16:00:00-04:00</th>\n",
       "      <td>2794.967617</td>\n",
       "    </tr>\n",
       "    <tr>\n",
       "      <th>2023-09-29 16:00:00-04:00</th>\n",
       "      <td>2737.853422</td>\n",
       "    </tr>\n",
       "    <tr>\n",
       "      <th>2023-10-06 16:00:00-04:00</th>\n",
       "      <td>2614.761740</td>\n",
       "    </tr>\n",
       "    <tr>\n",
       "      <th>2023-10-13 16:00:00-04:00</th>\n",
       "      <td>2719.796185</td>\n",
       "    </tr>\n",
       "    <tr>\n",
       "      <th>2023-10-20 16:00:00-04:00</th>\n",
       "      <td>2462.981674</td>\n",
       "    </tr>\n",
       "    <tr>\n",
       "      <th>2023-10-27 16:00:00-04:00</th>\n",
       "      <td>2130.618570</td>\n",
       "    </tr>\n",
       "    <tr>\n",
       "      <th>2023-11-03 16:00:00-04:00</th>\n",
       "      <td>2113.422603</td>\n",
       "    </tr>\n",
       "    <tr>\n",
       "      <th>2023-11-10 16:00:00-05:00</th>\n",
       "      <td>1942.463178</td>\n",
       "    </tr>\n",
       "    <tr>\n",
       "      <th>2023-11-17 16:00:00-05:00</th>\n",
       "      <td>2000.105631</td>\n",
       "    </tr>\n",
       "    <tr>\n",
       "      <th>2023-11-24 16:00:00-05:00</th>\n",
       "      <td>1937.832516</td>\n",
       "    </tr>\n",
       "    <tr>\n",
       "      <th>2023-12-01 16:00:00-05:00</th>\n",
       "      <td>1909.754976</td>\n",
       "    </tr>\n",
       "    <tr>\n",
       "      <th>2023-12-08 16:00:00-05:00</th>\n",
       "      <td>1655.692315</td>\n",
       "    </tr>\n",
       "    <tr>\n",
       "      <th>2023-12-15 16:00:00-05:00</th>\n",
       "      <td>1771.040322</td>\n",
       "    </tr>\n",
       "    <tr>\n",
       "      <th>2023-12-22 16:00:00-05:00</th>\n",
       "      <td>1723.441613</td>\n",
       "    </tr>\n",
       "    <tr>\n",
       "      <th>2023-12-29 16:00:00-05:00</th>\n",
       "      <td>1800.097360</td>\n",
       "    </tr>\n",
       "    <tr>\n",
       "      <th>2024-01-05 16:00:00-05:00</th>\n",
       "      <td>1704.446228</td>\n",
       "    </tr>\n",
       "    <tr>\n",
       "      <th>2024-01-12 16:00:00-05:00</th>\n",
       "      <td>1718.121728</td>\n",
       "    </tr>\n",
       "    <tr>\n",
       "      <th>2024-01-19 16:00:00-05:00</th>\n",
       "      <td>1790.324847</td>\n",
       "    </tr>\n",
       "    <tr>\n",
       "      <th>2024-01-26 16:00:00-05:00</th>\n",
       "      <td>1769.458741</td>\n",
       "    </tr>\n",
       "    <tr>\n",
       "      <th>2024-02-02 16:00:00-05:00</th>\n",
       "      <td>1726.741068</td>\n",
       "    </tr>\n",
       "    <tr>\n",
       "      <th>2024-02-09 16:00:00-05:00</th>\n",
       "      <td>1563.063061</td>\n",
       "    </tr>\n",
       "    <tr>\n",
       "      <th>2024-02-16 16:00:00-05:00</th>\n",
       "      <td>1425.443408</td>\n",
       "    </tr>\n",
       "    <tr>\n",
       "      <th>2024-02-23 16:00:00-05:00</th>\n",
       "      <td>1451.956846</td>\n",
       "    </tr>\n",
       "    <tr>\n",
       "      <th>2024-03-01 16:00:00-05:00</th>\n",
       "      <td>1178.361273</td>\n",
       "    </tr>\n",
       "    <tr>\n",
       "      <th>2024-03-08 16:00:00-05:00</th>\n",
       "      <td>1084.231120</td>\n",
       "    </tr>\n",
       "    <tr>\n",
       "      <th>2024-03-15 16:00:00-04:00</th>\n",
       "      <td>1084.474736</td>\n",
       "    </tr>\n",
       "    <tr>\n",
       "      <th>2024-03-22 16:00:00-04:00</th>\n",
       "      <td>1157.635706</td>\n",
       "    </tr>\n",
       "    <tr>\n",
       "      <th>2024-03-29 16:00:00-04:00</th>\n",
       "      <td>1060.640549</td>\n",
       "    </tr>\n",
       "    <tr>\n",
       "      <th>2024-04-05 16:00:00-04:00</th>\n",
       "      <td>1087.254095</td>\n",
       "    </tr>\n",
       "    <tr>\n",
       "      <th>2024-04-12 16:00:00-04:00</th>\n",
       "      <td>1083.284980</td>\n",
       "    </tr>\n",
       "    <tr>\n",
       "      <th>2024-04-19 16:00:00-04:00</th>\n",
       "      <td>1136.320560</td>\n",
       "    </tr>\n",
       "    <tr>\n",
       "      <th>2024-04-26 16:00:00-04:00</th>\n",
       "      <td>1144.841501</td>\n",
       "    </tr>\n",
       "    <tr>\n",
       "      <th>2024-05-03 16:00:00-04:00</th>\n",
       "      <td>1162.350909</td>\n",
       "    </tr>\n",
       "    <tr>\n",
       "      <th>2024-05-10 16:00:00-04:00</th>\n",
       "      <td>1209.554803</td>\n",
       "    </tr>\n",
       "    <tr>\n",
       "      <th>2024-05-17 16:00:00-04:00</th>\n",
       "      <td>1097.282306</td>\n",
       "    </tr>\n",
       "    <tr>\n",
       "      <th>2024-05-24 16:00:00-04:00</th>\n",
       "      <td>1061.789249</td>\n",
       "    </tr>\n",
       "    <tr>\n",
       "      <th>2024-05-31 16:00:00-04:00</th>\n",
       "      <td>1085.095200</td>\n",
       "    </tr>\n",
       "    <tr>\n",
       "      <th>2024-06-07 16:00:00-04:00</th>\n",
       "      <td>1048.825103</td>\n",
       "    </tr>\n",
       "    <tr>\n",
       "      <th>2024-06-14 16:00:00-04:00</th>\n",
       "      <td>1107.562297</td>\n",
       "    </tr>\n",
       "    <tr>\n",
       "      <th>2024-06-21 16:00:00-04:00</th>\n",
       "      <td>1138.491435</td>\n",
       "    </tr>\n",
       "    <tr>\n",
       "      <th>2024-06-28 16:00:00-04:00</th>\n",
       "      <td>1215.964628</td>\n",
       "    </tr>\n",
       "    <tr>\n",
       "      <th>2024-07-05 16:00:00-04:00</th>\n",
       "      <td>1300.571530</td>\n",
       "    </tr>\n",
       "    <tr>\n",
       "      <th>2024-07-12 16:00:00-04:00</th>\n",
       "      <td>1273.904621</td>\n",
       "    </tr>\n",
       "    <tr>\n",
       "      <th>2024-07-19 16:00:00-04:00</th>\n",
       "      <td>1087.482163</td>\n",
       "    </tr>\n",
       "  </tbody>\n",
       "</table>\n",
       "</div>"
      ],
      "text/plain": [
       "                                 Close\n",
       "Datetime                              \n",
       "2023-07-21 16:00:00-04:00  2530.214317\n",
       "2023-07-28 16:00:00-04:00  2571.937390\n",
       "2023-08-04 16:00:00-04:00  2583.780861\n",
       "2023-08-11 16:00:00-04:00  2531.107409\n",
       "2023-08-18 16:00:00-04:00  2826.960635\n",
       "2023-08-25 16:00:00-04:00  2820.828469\n",
       "2023-09-01 16:00:00-04:00  2855.144893\n",
       "2023-09-08 16:00:00-04:00  2831.505095\n",
       "2023-09-15 16:00:00-04:00  2797.878727\n",
       "2023-09-22 16:00:00-04:00  2794.967617\n",
       "2023-09-29 16:00:00-04:00  2737.853422\n",
       "2023-10-06 16:00:00-04:00  2614.761740\n",
       "2023-10-13 16:00:00-04:00  2719.796185\n",
       "2023-10-20 16:00:00-04:00  2462.981674\n",
       "2023-10-27 16:00:00-04:00  2130.618570\n",
       "2023-11-03 16:00:00-04:00  2113.422603\n",
       "2023-11-10 16:00:00-05:00  1942.463178\n",
       "2023-11-17 16:00:00-05:00  2000.105631\n",
       "2023-11-24 16:00:00-05:00  1937.832516\n",
       "2023-12-01 16:00:00-05:00  1909.754976\n",
       "2023-12-08 16:00:00-05:00  1655.692315\n",
       "2023-12-15 16:00:00-05:00  1771.040322\n",
       "2023-12-22 16:00:00-05:00  1723.441613\n",
       "2023-12-29 16:00:00-05:00  1800.097360\n",
       "2024-01-05 16:00:00-05:00  1704.446228\n",
       "2024-01-12 16:00:00-05:00  1718.121728\n",
       "2024-01-19 16:00:00-05:00  1790.324847\n",
       "2024-01-26 16:00:00-05:00  1769.458741\n",
       "2024-02-02 16:00:00-05:00  1726.741068\n",
       "2024-02-09 16:00:00-05:00  1563.063061\n",
       "2024-02-16 16:00:00-05:00  1425.443408\n",
       "2024-02-23 16:00:00-05:00  1451.956846\n",
       "2024-03-01 16:00:00-05:00  1178.361273\n",
       "2024-03-08 16:00:00-05:00  1084.231120\n",
       "2024-03-15 16:00:00-04:00  1084.474736\n",
       "2024-03-22 16:00:00-04:00  1157.635706\n",
       "2024-03-29 16:00:00-04:00  1060.640549\n",
       "2024-04-05 16:00:00-04:00  1087.254095\n",
       "2024-04-12 16:00:00-04:00  1083.284980\n",
       "2024-04-19 16:00:00-04:00  1136.320560\n",
       "2024-04-26 16:00:00-04:00  1144.841501\n",
       "2024-05-03 16:00:00-04:00  1162.350909\n",
       "2024-05-10 16:00:00-04:00  1209.554803\n",
       "2024-05-17 16:00:00-04:00  1097.282306\n",
       "2024-05-24 16:00:00-04:00  1061.789249\n",
       "2024-05-31 16:00:00-04:00  1085.095200\n",
       "2024-06-07 16:00:00-04:00  1048.825103\n",
       "2024-06-14 16:00:00-04:00  1107.562297\n",
       "2024-06-21 16:00:00-04:00  1138.491435\n",
       "2024-06-28 16:00:00-04:00  1215.964628\n",
       "2024-07-05 16:00:00-04:00  1300.571530\n",
       "2024-07-12 16:00:00-04:00  1273.904621\n",
       "2024-07-19 16:00:00-04:00  1087.482163"
      ]
     },
     "metadata": {},
     "output_type": "display_data"
    }
   ],
   "source": [
    "### Convert to Sats nominator ###\n",
    "def SatsConv(x):\n",
    "  SatsPerCAD = 1/(x/100000000)\n",
    "  return SatsPerCAD\n",
    "\n",
    "#convert prices to sats\n",
    "SATSCAD_df = CADBTC_df.map(SatsConv)\n",
    "\n",
    "#view\n",
    "display(SATSCAD_df)"
   ]
  },
  {
   "cell_type": "code",
   "execution_count": 5,
   "metadata": {},
   "outputs": [
    {
     "name": "stdout",
     "output_type": "stream",
     "text": [
      "1087\n",
      "2571\n",
      "-57\n",
      "07/19/2024 16:00\n"
     ]
    }
   ],
   "source": [
    "#capture data from table\n",
    "\n",
    "close_sats_price = int(SATSCAD_df['Close'].loc[SATSCAD_df.index[-1]])\n",
    "print(close_sats_price)\n",
    "\n",
    "year_ago_sats_price = int(SATSCAD_df['Close'].loc[SATSCAD_df.index[1]])\n",
    "print(year_ago_sats_price)\n",
    "\n",
    "one_year_convertibility = int(((close_sats_price/year_ago_sats_price)*100)-100 / 1)\n",
    "print(one_year_convertibility)\n",
    "\n",
    "close_date = SATSCAD_df.index[-1]\n",
    "close_date = close_date.strftime(\"%m/%d/%Y %H:%M\")\n",
    "print(close_date)"
   ]
  },
  {
   "cell_type": "code",
   "execution_count": 6,
   "metadata": {},
   "outputs": [
    {
     "data": {
      "application/vnd.plotly.v1+json": {
       "config": {
        "plotlyServerURL": "https://plot.ly"
       },
       "data": [
        {
         "fillpattern": {
          "shape": ""
         },
         "hovertemplate": "variable=Close<br>Datetime=%{x}<br>value=%{y}<extra></extra>",
         "legendgroup": "Close",
         "line": {
          "color": "DarkOrange"
         },
         "marker": {
          "symbol": "circle"
         },
         "mode": "lines",
         "name": "Close",
         "orientation": "v",
         "showlegend": true,
         "stackgroup": "1",
         "type": "scatter",
         "x": [
          "2023-07-21T16:00:00-04:00",
          "2023-07-28T16:00:00-04:00",
          "2023-08-04T16:00:00-04:00",
          "2023-08-11T16:00:00-04:00",
          "2023-08-18T16:00:00-04:00",
          "2023-08-25T16:00:00-04:00",
          "2023-09-01T16:00:00-04:00",
          "2023-09-08T16:00:00-04:00",
          "2023-09-15T16:00:00-04:00",
          "2023-09-22T16:00:00-04:00",
          "2023-09-29T16:00:00-04:00",
          "2023-10-06T16:00:00-04:00",
          "2023-10-13T16:00:00-04:00",
          "2023-10-20T16:00:00-04:00",
          "2023-10-27T16:00:00-04:00",
          "2023-11-03T16:00:00-04:00",
          "2023-11-10T16:00:00-05:00",
          "2023-11-17T16:00:00-05:00",
          "2023-11-24T16:00:00-05:00",
          "2023-12-01T16:00:00-05:00",
          "2023-12-08T16:00:00-05:00",
          "2023-12-15T16:00:00-05:00",
          "2023-12-22T16:00:00-05:00",
          "2023-12-29T16:00:00-05:00",
          "2024-01-05T16:00:00-05:00",
          "2024-01-12T16:00:00-05:00",
          "2024-01-19T16:00:00-05:00",
          "2024-01-26T16:00:00-05:00",
          "2024-02-02T16:00:00-05:00",
          "2024-02-09T16:00:00-05:00",
          "2024-02-16T16:00:00-05:00",
          "2024-02-23T16:00:00-05:00",
          "2024-03-01T16:00:00-05:00",
          "2024-03-08T16:00:00-05:00",
          "2024-03-15T16:00:00-04:00",
          "2024-03-22T16:00:00-04:00",
          "2024-03-29T16:00:00-04:00",
          "2024-04-05T16:00:00-04:00",
          "2024-04-12T16:00:00-04:00",
          "2024-04-19T16:00:00-04:00",
          "2024-04-26T16:00:00-04:00",
          "2024-05-03T16:00:00-04:00",
          "2024-05-10T16:00:00-04:00",
          "2024-05-17T16:00:00-04:00",
          "2024-05-24T16:00:00-04:00",
          "2024-05-31T16:00:00-04:00",
          "2024-06-07T16:00:00-04:00",
          "2024-06-14T16:00:00-04:00",
          "2024-06-21T16:00:00-04:00",
          "2024-06-28T16:00:00-04:00",
          "2024-07-05T16:00:00-04:00",
          "2024-07-12T16:00:00-04:00",
          "2024-07-19T16:00:00-04:00"
         ],
         "xaxis": "x",
         "y": [
          2530.214317059575,
          2571.9373902028874,
          2583.7808606634603,
          2531.1074089270974,
          2826.960635235723,
          2820.828468506111,
          2855.144893026866,
          2831.5050953819036,
          2797.878727039498,
          2794.967617133981,
          2737.853422386294,
          2614.761739539702,
          2719.796185273366,
          2462.981674069402,
          2130.618570171839,
          2113.4226028731155,
          1942.4631783720688,
          2000.1056305786149,
          1937.8325161634912,
          1909.7549761985595,
          1655.6923154533654,
          1771.0403222297177,
          1723.4416132652223,
          1800.0973599533042,
          1704.4462277509012,
          1718.1217278505922,
          1790.324846750641,
          1769.458741233317,
          1726.7410676224179,
          1563.06306141287,
          1425.4434075581019,
          1451.956846481313,
          1178.361273230403,
          1084.2311204656162,
          1084.47473593252,
          1157.6357063327828,
          1060.6405490008062,
          1087.2540947645573,
          1083.2849804568618,
          1136.32056029126,
          1144.8415007190588,
          1162.3509091990538,
          1209.5548025656926,
          1097.2823060484943,
          1061.789249267718,
          1085.0952001492005,
          1048.8251028422178,
          1107.5622969180695,
          1138.4914348087352,
          1215.9646275889836,
          1300.5715300624568,
          1273.9046211686325,
          1087.4821627437448
         ],
         "yaxis": "y"
        }
       ],
       "layout": {
        "legend": {
         "title": {
          "text": "variable"
         },
         "tracegroupgap": 0
        },
        "showlegend": false,
        "template": {
         "data": {
          "bar": [
           {
            "error_x": {
             "color": "#2a3f5f"
            },
            "error_y": {
             "color": "#2a3f5f"
            },
            "marker": {
             "line": {
              "color": "#E5ECF6",
              "width": 0.5
             },
             "pattern": {
              "fillmode": "overlay",
              "size": 10,
              "solidity": 0.2
             }
            },
            "type": "bar"
           }
          ],
          "barpolar": [
           {
            "marker": {
             "line": {
              "color": "#E5ECF6",
              "width": 0.5
             },
             "pattern": {
              "fillmode": "overlay",
              "size": 10,
              "solidity": 0.2
             }
            },
            "type": "barpolar"
           }
          ],
          "carpet": [
           {
            "aaxis": {
             "endlinecolor": "#2a3f5f",
             "gridcolor": "white",
             "linecolor": "white",
             "minorgridcolor": "white",
             "startlinecolor": "#2a3f5f"
            },
            "baxis": {
             "endlinecolor": "#2a3f5f",
             "gridcolor": "white",
             "linecolor": "white",
             "minorgridcolor": "white",
             "startlinecolor": "#2a3f5f"
            },
            "type": "carpet"
           }
          ],
          "choropleth": [
           {
            "colorbar": {
             "outlinewidth": 0,
             "ticks": ""
            },
            "type": "choropleth"
           }
          ],
          "contour": [
           {
            "colorbar": {
             "outlinewidth": 0,
             "ticks": ""
            },
            "colorscale": [
             [
              0,
              "#0d0887"
             ],
             [
              0.1111111111111111,
              "#46039f"
             ],
             [
              0.2222222222222222,
              "#7201a8"
             ],
             [
              0.3333333333333333,
              "#9c179e"
             ],
             [
              0.4444444444444444,
              "#bd3786"
             ],
             [
              0.5555555555555556,
              "#d8576b"
             ],
             [
              0.6666666666666666,
              "#ed7953"
             ],
             [
              0.7777777777777778,
              "#fb9f3a"
             ],
             [
              0.8888888888888888,
              "#fdca26"
             ],
             [
              1,
              "#f0f921"
             ]
            ],
            "type": "contour"
           }
          ],
          "contourcarpet": [
           {
            "colorbar": {
             "outlinewidth": 0,
             "ticks": ""
            },
            "type": "contourcarpet"
           }
          ],
          "heatmap": [
           {
            "colorbar": {
             "outlinewidth": 0,
             "ticks": ""
            },
            "colorscale": [
             [
              0,
              "#0d0887"
             ],
             [
              0.1111111111111111,
              "#46039f"
             ],
             [
              0.2222222222222222,
              "#7201a8"
             ],
             [
              0.3333333333333333,
              "#9c179e"
             ],
             [
              0.4444444444444444,
              "#bd3786"
             ],
             [
              0.5555555555555556,
              "#d8576b"
             ],
             [
              0.6666666666666666,
              "#ed7953"
             ],
             [
              0.7777777777777778,
              "#fb9f3a"
             ],
             [
              0.8888888888888888,
              "#fdca26"
             ],
             [
              1,
              "#f0f921"
             ]
            ],
            "type": "heatmap"
           }
          ],
          "heatmapgl": [
           {
            "colorbar": {
             "outlinewidth": 0,
             "ticks": ""
            },
            "colorscale": [
             [
              0,
              "#0d0887"
             ],
             [
              0.1111111111111111,
              "#46039f"
             ],
             [
              0.2222222222222222,
              "#7201a8"
             ],
             [
              0.3333333333333333,
              "#9c179e"
             ],
             [
              0.4444444444444444,
              "#bd3786"
             ],
             [
              0.5555555555555556,
              "#d8576b"
             ],
             [
              0.6666666666666666,
              "#ed7953"
             ],
             [
              0.7777777777777778,
              "#fb9f3a"
             ],
             [
              0.8888888888888888,
              "#fdca26"
             ],
             [
              1,
              "#f0f921"
             ]
            ],
            "type": "heatmapgl"
           }
          ],
          "histogram": [
           {
            "marker": {
             "pattern": {
              "fillmode": "overlay",
              "size": 10,
              "solidity": 0.2
             }
            },
            "type": "histogram"
           }
          ],
          "histogram2d": [
           {
            "colorbar": {
             "outlinewidth": 0,
             "ticks": ""
            },
            "colorscale": [
             [
              0,
              "#0d0887"
             ],
             [
              0.1111111111111111,
              "#46039f"
             ],
             [
              0.2222222222222222,
              "#7201a8"
             ],
             [
              0.3333333333333333,
              "#9c179e"
             ],
             [
              0.4444444444444444,
              "#bd3786"
             ],
             [
              0.5555555555555556,
              "#d8576b"
             ],
             [
              0.6666666666666666,
              "#ed7953"
             ],
             [
              0.7777777777777778,
              "#fb9f3a"
             ],
             [
              0.8888888888888888,
              "#fdca26"
             ],
             [
              1,
              "#f0f921"
             ]
            ],
            "type": "histogram2d"
           }
          ],
          "histogram2dcontour": [
           {
            "colorbar": {
             "outlinewidth": 0,
             "ticks": ""
            },
            "colorscale": [
             [
              0,
              "#0d0887"
             ],
             [
              0.1111111111111111,
              "#46039f"
             ],
             [
              0.2222222222222222,
              "#7201a8"
             ],
             [
              0.3333333333333333,
              "#9c179e"
             ],
             [
              0.4444444444444444,
              "#bd3786"
             ],
             [
              0.5555555555555556,
              "#d8576b"
             ],
             [
              0.6666666666666666,
              "#ed7953"
             ],
             [
              0.7777777777777778,
              "#fb9f3a"
             ],
             [
              0.8888888888888888,
              "#fdca26"
             ],
             [
              1,
              "#f0f921"
             ]
            ],
            "type": "histogram2dcontour"
           }
          ],
          "mesh3d": [
           {
            "colorbar": {
             "outlinewidth": 0,
             "ticks": ""
            },
            "type": "mesh3d"
           }
          ],
          "parcoords": [
           {
            "line": {
             "colorbar": {
              "outlinewidth": 0,
              "ticks": ""
             }
            },
            "type": "parcoords"
           }
          ],
          "pie": [
           {
            "automargin": true,
            "type": "pie"
           }
          ],
          "scatter": [
           {
            "fillpattern": {
             "fillmode": "overlay",
             "size": 10,
             "solidity": 0.2
            },
            "type": "scatter"
           }
          ],
          "scatter3d": [
           {
            "line": {
             "colorbar": {
              "outlinewidth": 0,
              "ticks": ""
             }
            },
            "marker": {
             "colorbar": {
              "outlinewidth": 0,
              "ticks": ""
             }
            },
            "type": "scatter3d"
           }
          ],
          "scattercarpet": [
           {
            "marker": {
             "colorbar": {
              "outlinewidth": 0,
              "ticks": ""
             }
            },
            "type": "scattercarpet"
           }
          ],
          "scattergeo": [
           {
            "marker": {
             "colorbar": {
              "outlinewidth": 0,
              "ticks": ""
             }
            },
            "type": "scattergeo"
           }
          ],
          "scattergl": [
           {
            "marker": {
             "colorbar": {
              "outlinewidth": 0,
              "ticks": ""
             }
            },
            "type": "scattergl"
           }
          ],
          "scattermapbox": [
           {
            "marker": {
             "colorbar": {
              "outlinewidth": 0,
              "ticks": ""
             }
            },
            "type": "scattermapbox"
           }
          ],
          "scatterpolar": [
           {
            "marker": {
             "colorbar": {
              "outlinewidth": 0,
              "ticks": ""
             }
            },
            "type": "scatterpolar"
           }
          ],
          "scatterpolargl": [
           {
            "marker": {
             "colorbar": {
              "outlinewidth": 0,
              "ticks": ""
             }
            },
            "type": "scatterpolargl"
           }
          ],
          "scatterternary": [
           {
            "marker": {
             "colorbar": {
              "outlinewidth": 0,
              "ticks": ""
             }
            },
            "type": "scatterternary"
           }
          ],
          "surface": [
           {
            "colorbar": {
             "outlinewidth": 0,
             "ticks": ""
            },
            "colorscale": [
             [
              0,
              "#0d0887"
             ],
             [
              0.1111111111111111,
              "#46039f"
             ],
             [
              0.2222222222222222,
              "#7201a8"
             ],
             [
              0.3333333333333333,
              "#9c179e"
             ],
             [
              0.4444444444444444,
              "#bd3786"
             ],
             [
              0.5555555555555556,
              "#d8576b"
             ],
             [
              0.6666666666666666,
              "#ed7953"
             ],
             [
              0.7777777777777778,
              "#fb9f3a"
             ],
             [
              0.8888888888888888,
              "#fdca26"
             ],
             [
              1,
              "#f0f921"
             ]
            ],
            "type": "surface"
           }
          ],
          "table": [
           {
            "cells": {
             "fill": {
              "color": "#EBF0F8"
             },
             "line": {
              "color": "white"
             }
            },
            "header": {
             "fill": {
              "color": "#C8D4E3"
             },
             "line": {
              "color": "white"
             }
            },
            "type": "table"
           }
          ]
         },
         "layout": {
          "annotationdefaults": {
           "arrowcolor": "#2a3f5f",
           "arrowhead": 0,
           "arrowwidth": 1
          },
          "autotypenumbers": "strict",
          "coloraxis": {
           "colorbar": {
            "outlinewidth": 0,
            "ticks": ""
           }
          },
          "colorscale": {
           "diverging": [
            [
             0,
             "#8e0152"
            ],
            [
             0.1,
             "#c51b7d"
            ],
            [
             0.2,
             "#de77ae"
            ],
            [
             0.3,
             "#f1b6da"
            ],
            [
             0.4,
             "#fde0ef"
            ],
            [
             0.5,
             "#f7f7f7"
            ],
            [
             0.6,
             "#e6f5d0"
            ],
            [
             0.7,
             "#b8e186"
            ],
            [
             0.8,
             "#7fbc41"
            ],
            [
             0.9,
             "#4d9221"
            ],
            [
             1,
             "#276419"
            ]
           ],
           "sequential": [
            [
             0,
             "#0d0887"
            ],
            [
             0.1111111111111111,
             "#46039f"
            ],
            [
             0.2222222222222222,
             "#7201a8"
            ],
            [
             0.3333333333333333,
             "#9c179e"
            ],
            [
             0.4444444444444444,
             "#bd3786"
            ],
            [
             0.5555555555555556,
             "#d8576b"
            ],
            [
             0.6666666666666666,
             "#ed7953"
            ],
            [
             0.7777777777777778,
             "#fb9f3a"
            ],
            [
             0.8888888888888888,
             "#fdca26"
            ],
            [
             1,
             "#f0f921"
            ]
           ],
           "sequentialminus": [
            [
             0,
             "#0d0887"
            ],
            [
             0.1111111111111111,
             "#46039f"
            ],
            [
             0.2222222222222222,
             "#7201a8"
            ],
            [
             0.3333333333333333,
             "#9c179e"
            ],
            [
             0.4444444444444444,
             "#bd3786"
            ],
            [
             0.5555555555555556,
             "#d8576b"
            ],
            [
             0.6666666666666666,
             "#ed7953"
            ],
            [
             0.7777777777777778,
             "#fb9f3a"
            ],
            [
             0.8888888888888888,
             "#fdca26"
            ],
            [
             1,
             "#f0f921"
            ]
           ]
          },
          "colorway": [
           "#636efa",
           "#EF553B",
           "#00cc96",
           "#ab63fa",
           "#FFA15A",
           "#19d3f3",
           "#FF6692",
           "#B6E880",
           "#FF97FF",
           "#FECB52"
          ],
          "font": {
           "color": "#2a3f5f"
          },
          "geo": {
           "bgcolor": "white",
           "lakecolor": "white",
           "landcolor": "#E5ECF6",
           "showlakes": true,
           "showland": true,
           "subunitcolor": "white"
          },
          "hoverlabel": {
           "align": "left"
          },
          "hovermode": "closest",
          "mapbox": {
           "style": "light"
          },
          "paper_bgcolor": "white",
          "plot_bgcolor": "#E5ECF6",
          "polar": {
           "angularaxis": {
            "gridcolor": "white",
            "linecolor": "white",
            "ticks": ""
           },
           "bgcolor": "#E5ECF6",
           "radialaxis": {
            "gridcolor": "white",
            "linecolor": "white",
            "ticks": ""
           }
          },
          "scene": {
           "xaxis": {
            "backgroundcolor": "#E5ECF6",
            "gridcolor": "white",
            "gridwidth": 2,
            "linecolor": "white",
            "showbackground": true,
            "ticks": "",
            "zerolinecolor": "white"
           },
           "yaxis": {
            "backgroundcolor": "#E5ECF6",
            "gridcolor": "white",
            "gridwidth": 2,
            "linecolor": "white",
            "showbackground": true,
            "ticks": "",
            "zerolinecolor": "white"
           },
           "zaxis": {
            "backgroundcolor": "#E5ECF6",
            "gridcolor": "white",
            "gridwidth": 2,
            "linecolor": "white",
            "showbackground": true,
            "ticks": "",
            "zerolinecolor": "white"
           }
          },
          "shapedefaults": {
           "line": {
            "color": "#2a3f5f"
           }
          },
          "ternary": {
           "aaxis": {
            "gridcolor": "white",
            "linecolor": "white",
            "ticks": ""
           },
           "baxis": {
            "gridcolor": "white",
            "linecolor": "white",
            "ticks": ""
           },
           "bgcolor": "#E5ECF6",
           "caxis": {
            "gridcolor": "white",
            "linecolor": "white",
            "ticks": ""
           }
          },
          "title": {
           "x": 0.05
          },
          "xaxis": {
           "automargin": true,
           "gridcolor": "white",
           "linecolor": "white",
           "ticks": "",
           "title": {
            "standoff": 15
           },
           "zerolinecolor": "white",
           "zerolinewidth": 2
          },
          "yaxis": {
           "automargin": true,
           "gridcolor": "white",
           "linecolor": "white",
           "ticks": "",
           "title": {
            "standoff": 15
           },
           "zerolinecolor": "white",
           "zerolinewidth": 2
          }
         }
        },
        "title": {
         "text": "Satoshis per Canadian Dollar"
        },
        "xaxis": {
         "anchor": "y",
         "domain": [
          0,
          1
         ],
         "title": {
          "text": "Date"
         }
        },
        "yaxis": {
         "anchor": "x",
         "domain": [
          0,
          1
         ],
         "title": {
          "text": "Satoshis per CAD$"
         }
        }
       }
      }
     },
     "metadata": {},
     "output_type": "display_data"
    }
   ],
   "source": [
    "# Area chart\n",
    "\n",
    "area_chart = px.area(SATSCAD_df['Close'], title = 'Satoshis per Canadian Dollar', color_discrete_map={\"Close\": \"DarkOrange\"})\n",
    "\n",
    "area_chart.update_xaxes(title_text = 'Date')\n",
    "area_chart.update_yaxes(title_text = 'Satoshis per CAD$')\n",
    "area_chart.update_layout(showlegend = False)\n",
    "\n",
    "area_chart.show()"
   ]
  },
  {
   "cell_type": "code",
   "execution_count": 7,
   "metadata": {},
   "outputs": [],
   "source": [
    "area_chart.write_image(\"images/SatsPerCAD_weekly.png\")"
   ]
  },
  {
   "cell_type": "code",
   "execution_count": 8,
   "metadata": {},
   "outputs": [
    {
     "name": "stdout",
     "output_type": "stream",
     "text": [
      "Response(data={'edit_history_tweet_ids': ['1814869996310323624'], 'id': '1814869996310323624', 'text': 'Current price is 1087 Satoshis per Canadian Dollar.\\nOver the last year CAD to SAT convertability has worsened by 57%\\n\\nReported on NYSE/TSX weekly close - 07/19/2024 16:00 ET https://t.co/XeH54XsFMe'}, includes={}, errors=[], meta={})\n"
     ]
    }
   ],
   "source": [
    "import tweepy\n",
    "# the below import is for calculating date. Not needed for you but I needed it.\n",
    "from datetime import date\n",
    "import shutil, pathlib, os\n",
    "\n",
    "# take these from developer.twitter.com\n",
    "from auth import (\n",
    "    CONSUMER_KEY, \n",
    "    CONSUMER_SECRET, \n",
    "    ACCESS_KEY, \n",
    "    ACCESS_SECRET, \n",
    "    BEARER_TOKEN, \n",
    "    CLIENT_ID, \n",
    "    CLIENT_ID_SECRET\n",
    ")\n",
    "\n",
    "# Authenticate to Twitter\n",
    "auth = tweepy.OAuthHandler(CONSUMER_KEY, CONSUMER_SECRET)\n",
    "auth.set_access_token(\n",
    "    ACCESS_KEY,\n",
    "    ACCESS_SECRET,\n",
    ")\n",
    "# this is the syntax for twitter API 2.0. It uses the client credentials that we created\n",
    "newapi = tweepy.Client(\n",
    "    bearer_token=BEARER_TOKEN,\n",
    "    access_token=ACCESS_KEY,\n",
    "    access_token_secret=ACCESS_SECRET,\n",
    "    consumer_key=CONSUMER_KEY,\n",
    "    consumer_secret=CONSUMER_SECRET,\n",
    ")\n",
    "\n",
    "# Create API object using the old twitter APIv1.1\n",
    "api = tweepy.API(auth)\n",
    "\n",
    "# adding the tweet content in a multiline string. The {mydays} part is updated dynamically as the number of days from 6th Nov, 2023\n",
    "if  one_year_convertibility < 0:\n",
    "    convertibility = abs(one_year_convertibility)\n",
    "    sampletweet = f\"Current price is {close_sats_price} Satoshis per Canadian Dollar.\\nOver the last year CAD to SAT convertability has worsened by {convertibility}%\\n\\nReported on NYSE/TSX weekly close - {close_date} ET\"\n",
    "else:\n",
    "    sampletweet = f\"Current price is {close_sats_price} Satoshis per Canadian Dollar.\\nOver the last year CAD to SAT convertability has improved by {one_year_convertibility}%\\n\\nReported on NYSE/TSX weekly close - {close_date} ET\"\n",
    "\n",
    "# upload the media using the old api\n",
    "media = api.media_upload(\"images/SatsPerCAD_weekly.png\")\n",
    "# create the tweet using the new api. Mention the image uploaded via the old api\n",
    "post_result = newapi.create_tweet(text=sampletweet, media_ids=[media.media_id])\n",
    "# the following line prints the response that you receive from the API. You can save it or process it in anyway u want. I am just printing it.\n",
    "print(post_result)"
   ]
  }
 ],
 "metadata": {
  "kernelspec": {
   "display_name": "Python 3",
   "language": "python",
   "name": "python3"
  },
  "language_info": {
   "codemirror_mode": {
    "name": "ipython",
    "version": 3
   },
   "file_extension": ".py",
   "mimetype": "text/x-python",
   "name": "python",
   "nbconvert_exporter": "python",
   "pygments_lexer": "ipython3",
   "version": "3.12.2"
  }
 },
 "nbformat": 4,
 "nbformat_minor": 4
}
