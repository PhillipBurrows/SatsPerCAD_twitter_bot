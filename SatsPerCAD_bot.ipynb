{
 "cells": [
  {
   "cell_type": "code",
   "execution_count": 1,
   "metadata": {},
   "outputs": [
    {
     "name": "stdout",
     "output_type": "stream",
     "text": [
      "{'name': 'Bitcoin', 'startDate': 1278979200, 'description': 'Bitcoin (BTC) is a cryptocurrency launched in 2010. Users are able to generate BTC through the process of mining. Bitcoin has a current supply of 19,727,703. The last known price of Bitcoin is 63,764.3968645 USD and is down -1.73 over the last 24 hours. It is currently trading on 11607 active market(s) with $28,028,532,972.56 traded over the last 24 hours. More information can be found at https://bitcoin.org/.', 'maxAge': 86400, 'priceHint': 2, 'previousClose': 87666.46, 'open': 87666.46, 'dayLow': 86812.24, 'dayHigh': 92492.36, 'regularMarketPreviousClose': 87666.46, 'regularMarketOpen': 87666.46, 'regularMarketDayLow': 86812.24, 'regularMarketDayHigh': 92492.36, 'volume': 49282191360, 'regularMarketVolume': 49282191360, 'averageVolume': 37211473091, 'averageVolume10days': 39212486913, 'averageDailyVolume10Day': 39212486913, 'marketCap': 1816125767680, 'fiftyTwoWeekLow': 33856.79, 'fiftyTwoWeekHigh': 99397.766, 'fiftyDayAverage': 87366.484, 'twoHundredDayAverage': 81151.42, 'currency': 'CAD', 'fromCurrency': 'BTC', 'toCurrency': 'CAD=X', 'lastMarket': 'CoinMarketCap', 'coinMarketCapLink': 'https://coinmarketcap.com/currencies/bitcoin', 'volume24Hr': 49282191360, 'volumeAllCurrencies': 49282191360, 'circulatingSupply': 19727880, 'exchange': 'CCC', 'quoteType': 'CRYPTOCURRENCY', 'symbol': 'BTC-CAD', 'underlyingSymbol': 'BTC-CAD', 'shortName': 'Bitcoin CAD', 'longName': 'Bitcoin CAD', 'firstTradeDateEpochUtc': 1410912000, 'timeZoneFullName': 'UTC', 'timeZoneShortName': 'UTC', 'uuid': 'a3dbf4ac-2189-3c82-8354-8824ff272308', 'messageBoardId': 'finmb_BTC_CCC', 'trailingPegRatio': None}\n"
     ]
    }
   ],
   "source": [
    "import yfinance as yf, pandas as pd, plotly.express as px\n",
    "\n",
    "# get stock info\n",
    "BTCCAD = yf.Ticker(\"BTC-CAD\")\n",
    "print(BTCCAD.info)\n",
    "\n",
    "# get historical market data\n",
    "CADBTC_df = BTCCAD.history(period=\"1y\", interval='1h')\n",
    "CADBTC_df = CADBTC_df.drop(columns=['Dividends','Stock Splits','Volume'])\n",
    "\n",
    "#display(CADBTC_df)"
   ]
  },
  {
   "cell_type": "code",
   "execution_count": 2,
   "metadata": {},
   "outputs": [],
   "source": [
    "#from datetime import datetime\n",
    "from dateutil import tz\n",
    "\n",
    "def convert_UTC_to_NY(UTCdatetime):\n",
    "    # METHOD 1: Hardcode zones:\n",
    "    from_zone = tz.gettz('UTC')\n",
    "    to_zone = tz.gettz('America/New_York')\n",
    "\n",
    "    # Tell the datetime object that it's in UTC time zone since datetime objects are 'naive' by default\n",
    "    utc = UTCdatetime.replace(tzinfo=from_zone)\n",
    "\n",
    "    # Convert time zone\n",
    "    central_time = utc.astimezone(to_zone)\n",
    "    return central_time\n",
    "\n",
    "CADBTC_df.index = CADBTC_df.index.map(convert_UTC_to_NY)\n",
    "\n",
    "#CADBTC_df"
   ]
  },
  {
   "cell_type": "code",
   "execution_count": 3,
   "metadata": {},
   "outputs": [],
   "source": [
    "#filter table for 4pm on fridays\n",
    "CADBTC_df['Day_of_week'] = CADBTC_df.index.strftime(\"%A\")\n",
    "CADBTC_df = CADBTC_df[CADBTC_df['Day_of_week'] == \"Friday\"]\n",
    "CADBTC_df = CADBTC_df.at_time('16:00')\n",
    "CADBTC_df = CADBTC_df.drop(columns=[\"Day_of_week\",\"Open\",\"Low\",\"High\"])\n",
    "\n",
    "#CADBTC_df"
   ]
  },
  {
   "cell_type": "code",
   "execution_count": 4,
   "metadata": {
    "scrolled": true
   },
   "outputs": [],
   "source": [
    "### Convert to Sats nominator ###\n",
    "#define function\n",
    "def SatsConv(x):\n",
    "  SatsPerCAD = 1/(x/100000000)\n",
    "  return SatsPerCAD\n",
    "\n",
    "#convert prices to sats\n",
    "SATSCAD_df = CADBTC_df.map(SatsConv)\n",
    "\n",
    "#view\n",
    "#display(SATSCAD_df)"
   ]
  },
  {
   "cell_type": "code",
   "execution_count": 5,
   "metadata": {},
   "outputs": [
    {
     "data": {
      "application/vnd.plotly.v1+json": {
       "config": {
        "plotlyServerURL": "https://plot.ly"
       },
       "data": [
        {
         "fillpattern": {
          "shape": ""
         },
         "hovertemplate": "variable=Close<br>Datetime=%{x}<br>value=%{y}<extra></extra>",
         "legendgroup": "Close",
         "line": {
          "color": "DarkOrange"
         },
         "marker": {
          "symbol": "circle"
         },
         "mode": "lines",
         "name": "Close",
         "orientation": "v",
         "showlegend": true,
         "stackgroup": "1",
         "type": "scatter",
         "x": [
          "2023-07-21T16:00:00-04:00",
          "2023-07-28T16:00:00-04:00",
          "2023-08-04T16:00:00-04:00",
          "2023-08-11T16:00:00-04:00",
          "2023-08-18T16:00:00-04:00",
          "2023-08-25T16:00:00-04:00",
          "2023-09-01T16:00:00-04:00",
          "2023-09-08T16:00:00-04:00",
          "2023-09-15T16:00:00-04:00",
          "2023-09-22T16:00:00-04:00",
          "2023-09-29T16:00:00-04:00",
          "2023-10-06T16:00:00-04:00",
          "2023-10-13T16:00:00-04:00",
          "2023-10-20T16:00:00-04:00",
          "2023-10-27T16:00:00-04:00",
          "2023-11-03T16:00:00-04:00",
          "2023-11-10T16:00:00-05:00",
          "2023-11-17T16:00:00-05:00",
          "2023-11-24T16:00:00-05:00",
          "2023-12-01T16:00:00-05:00",
          "2023-12-08T16:00:00-05:00",
          "2023-12-15T16:00:00-05:00",
          "2023-12-22T16:00:00-05:00",
          "2023-12-29T16:00:00-05:00",
          "2024-01-05T16:00:00-05:00",
          "2024-01-12T16:00:00-05:00",
          "2024-01-19T16:00:00-05:00",
          "2024-01-26T16:00:00-05:00",
          "2024-02-02T16:00:00-05:00",
          "2024-02-09T16:00:00-05:00",
          "2024-02-16T16:00:00-05:00",
          "2024-02-23T16:00:00-05:00",
          "2024-03-01T16:00:00-05:00",
          "2024-03-08T16:00:00-05:00",
          "2024-03-15T16:00:00-04:00",
          "2024-03-22T16:00:00-04:00",
          "2024-03-29T16:00:00-04:00",
          "2024-04-05T16:00:00-04:00",
          "2024-04-12T16:00:00-04:00",
          "2024-04-19T16:00:00-04:00",
          "2024-04-26T16:00:00-04:00",
          "2024-05-03T16:00:00-04:00",
          "2024-05-10T16:00:00-04:00",
          "2024-05-17T16:00:00-04:00",
          "2024-05-24T16:00:00-04:00",
          "2024-05-31T16:00:00-04:00",
          "2024-06-07T16:00:00-04:00",
          "2024-06-14T16:00:00-04:00",
          "2024-06-21T16:00:00-04:00",
          "2024-06-28T16:00:00-04:00",
          "2024-07-05T16:00:00-04:00",
          "2024-07-12T16:00:00-04:00",
          "2024-07-19T16:00:00-04:00"
         ],
         "xaxis": "x",
         "y": [
          2530.214317059575,
          2571.9373902028874,
          2583.7808606634603,
          2531.1074089270974,
          2826.960635235723,
          2820.828468506111,
          2855.144893026866,
          2831.5050953819036,
          2797.878727039498,
          2794.967617133981,
          2737.853422386294,
          2614.761739539702,
          2719.796185273366,
          2462.981674069402,
          2130.618570171839,
          2113.4226028731155,
          1942.4631783720688,
          2000.1056305786149,
          1937.8325161634912,
          1909.7549761985595,
          1655.6923154533654,
          1771.0403222297177,
          1723.4416132652223,
          1800.0973599533042,
          1704.4462277509012,
          1718.1217278505922,
          1790.324846750641,
          1769.458741233317,
          1726.7410676224179,
          1563.06306141287,
          1425.4434075581019,
          1451.956846481313,
          1178.361273230403,
          1084.2311204656162,
          1084.47473593252,
          1157.6357063327828,
          1060.6405490008062,
          1087.2540947645573,
          1083.2849804568618,
          1136.32056029126,
          1144.8415007190588,
          1162.3509091990538,
          1209.5548025656926,
          1097.2823060484943,
          1061.789249267718,
          1085.0952001492005,
          1048.8251028422178,
          1107.5622969180695,
          1138.4914348087352,
          1215.9646275889836,
          1300.5715300624568,
          1273.9046211686325,
          1086.261834419581
         ],
         "yaxis": "y"
        }
       ],
       "layout": {
        "legend": {
         "title": {
          "text": "variable"
         },
         "tracegroupgap": 0
        },
        "showlegend": false,
        "template": {
         "data": {
          "bar": [
           {
            "error_x": {
             "color": "#2a3f5f"
            },
            "error_y": {
             "color": "#2a3f5f"
            },
            "marker": {
             "line": {
              "color": "#E5ECF6",
              "width": 0.5
             },
             "pattern": {
              "fillmode": "overlay",
              "size": 10,
              "solidity": 0.2
             }
            },
            "type": "bar"
           }
          ],
          "barpolar": [
           {
            "marker": {
             "line": {
              "color": "#E5ECF6",
              "width": 0.5
             },
             "pattern": {
              "fillmode": "overlay",
              "size": 10,
              "solidity": 0.2
             }
            },
            "type": "barpolar"
           }
          ],
          "carpet": [
           {
            "aaxis": {
             "endlinecolor": "#2a3f5f",
             "gridcolor": "white",
             "linecolor": "white",
             "minorgridcolor": "white",
             "startlinecolor": "#2a3f5f"
            },
            "baxis": {
             "endlinecolor": "#2a3f5f",
             "gridcolor": "white",
             "linecolor": "white",
             "minorgridcolor": "white",
             "startlinecolor": "#2a3f5f"
            },
            "type": "carpet"
           }
          ],
          "choropleth": [
           {
            "colorbar": {
             "outlinewidth": 0,
             "ticks": ""
            },
            "type": "choropleth"
           }
          ],
          "contour": [
           {
            "colorbar": {
             "outlinewidth": 0,
             "ticks": ""
            },
            "colorscale": [
             [
              0,
              "#0d0887"
             ],
             [
              0.1111111111111111,
              "#46039f"
             ],
             [
              0.2222222222222222,
              "#7201a8"
             ],
             [
              0.3333333333333333,
              "#9c179e"
             ],
             [
              0.4444444444444444,
              "#bd3786"
             ],
             [
              0.5555555555555556,
              "#d8576b"
             ],
             [
              0.6666666666666666,
              "#ed7953"
             ],
             [
              0.7777777777777778,
              "#fb9f3a"
             ],
             [
              0.8888888888888888,
              "#fdca26"
             ],
             [
              1,
              "#f0f921"
             ]
            ],
            "type": "contour"
           }
          ],
          "contourcarpet": [
           {
            "colorbar": {
             "outlinewidth": 0,
             "ticks": ""
            },
            "type": "contourcarpet"
           }
          ],
          "heatmap": [
           {
            "colorbar": {
             "outlinewidth": 0,
             "ticks": ""
            },
            "colorscale": [
             [
              0,
              "#0d0887"
             ],
             [
              0.1111111111111111,
              "#46039f"
             ],
             [
              0.2222222222222222,
              "#7201a8"
             ],
             [
              0.3333333333333333,
              "#9c179e"
             ],
             [
              0.4444444444444444,
              "#bd3786"
             ],
             [
              0.5555555555555556,
              "#d8576b"
             ],
             [
              0.6666666666666666,
              "#ed7953"
             ],
             [
              0.7777777777777778,
              "#fb9f3a"
             ],
             [
              0.8888888888888888,
              "#fdca26"
             ],
             [
              1,
              "#f0f921"
             ]
            ],
            "type": "heatmap"
           }
          ],
          "heatmapgl": [
           {
            "colorbar": {
             "outlinewidth": 0,
             "ticks": ""
            },
            "colorscale": [
             [
              0,
              "#0d0887"
             ],
             [
              0.1111111111111111,
              "#46039f"
             ],
             [
              0.2222222222222222,
              "#7201a8"
             ],
             [
              0.3333333333333333,
              "#9c179e"
             ],
             [
              0.4444444444444444,
              "#bd3786"
             ],
             [
              0.5555555555555556,
              "#d8576b"
             ],
             [
              0.6666666666666666,
              "#ed7953"
             ],
             [
              0.7777777777777778,
              "#fb9f3a"
             ],
             [
              0.8888888888888888,
              "#fdca26"
             ],
             [
              1,
              "#f0f921"
             ]
            ],
            "type": "heatmapgl"
           }
          ],
          "histogram": [
           {
            "marker": {
             "pattern": {
              "fillmode": "overlay",
              "size": 10,
              "solidity": 0.2
             }
            },
            "type": "histogram"
           }
          ],
          "histogram2d": [
           {
            "colorbar": {
             "outlinewidth": 0,
             "ticks": ""
            },
            "colorscale": [
             [
              0,
              "#0d0887"
             ],
             [
              0.1111111111111111,
              "#46039f"
             ],
             [
              0.2222222222222222,
              "#7201a8"
             ],
             [
              0.3333333333333333,
              "#9c179e"
             ],
             [
              0.4444444444444444,
              "#bd3786"
             ],
             [
              0.5555555555555556,
              "#d8576b"
             ],
             [
              0.6666666666666666,
              "#ed7953"
             ],
             [
              0.7777777777777778,
              "#fb9f3a"
             ],
             [
              0.8888888888888888,
              "#fdca26"
             ],
             [
              1,
              "#f0f921"
             ]
            ],
            "type": "histogram2d"
           }
          ],
          "histogram2dcontour": [
           {
            "colorbar": {
             "outlinewidth": 0,
             "ticks": ""
            },
            "colorscale": [
             [
              0,
              "#0d0887"
             ],
             [
              0.1111111111111111,
              "#46039f"
             ],
             [
              0.2222222222222222,
              "#7201a8"
             ],
             [
              0.3333333333333333,
              "#9c179e"
             ],
             [
              0.4444444444444444,
              "#bd3786"
             ],
             [
              0.5555555555555556,
              "#d8576b"
             ],
             [
              0.6666666666666666,
              "#ed7953"
             ],
             [
              0.7777777777777778,
              "#fb9f3a"
             ],
             [
              0.8888888888888888,
              "#fdca26"
             ],
             [
              1,
              "#f0f921"
             ]
            ],
            "type": "histogram2dcontour"
           }
          ],
          "mesh3d": [
           {
            "colorbar": {
             "outlinewidth": 0,
             "ticks": ""
            },
            "type": "mesh3d"
           }
          ],
          "parcoords": [
           {
            "line": {
             "colorbar": {
              "outlinewidth": 0,
              "ticks": ""
             }
            },
            "type": "parcoords"
           }
          ],
          "pie": [
           {
            "automargin": true,
            "type": "pie"
           }
          ],
          "scatter": [
           {
            "fillpattern": {
             "fillmode": "overlay",
             "size": 10,
             "solidity": 0.2
            },
            "type": "scatter"
           }
          ],
          "scatter3d": [
           {
            "line": {
             "colorbar": {
              "outlinewidth": 0,
              "ticks": ""
             }
            },
            "marker": {
             "colorbar": {
              "outlinewidth": 0,
              "ticks": ""
             }
            },
            "type": "scatter3d"
           }
          ],
          "scattercarpet": [
           {
            "marker": {
             "colorbar": {
              "outlinewidth": 0,
              "ticks": ""
             }
            },
            "type": "scattercarpet"
           }
          ],
          "scattergeo": [
           {
            "marker": {
             "colorbar": {
              "outlinewidth": 0,
              "ticks": ""
             }
            },
            "type": "scattergeo"
           }
          ],
          "scattergl": [
           {
            "marker": {
             "colorbar": {
              "outlinewidth": 0,
              "ticks": ""
             }
            },
            "type": "scattergl"
           }
          ],
          "scattermapbox": [
           {
            "marker": {
             "colorbar": {
              "outlinewidth": 0,
              "ticks": ""
             }
            },
            "type": "scattermapbox"
           }
          ],
          "scatterpolar": [
           {
            "marker": {
             "colorbar": {
              "outlinewidth": 0,
              "ticks": ""
             }
            },
            "type": "scatterpolar"
           }
          ],
          "scatterpolargl": [
           {
            "marker": {
             "colorbar": {
              "outlinewidth": 0,
              "ticks": ""
             }
            },
            "type": "scatterpolargl"
           }
          ],
          "scatterternary": [
           {
            "marker": {
             "colorbar": {
              "outlinewidth": 0,
              "ticks": ""
             }
            },
            "type": "scatterternary"
           }
          ],
          "surface": [
           {
            "colorbar": {
             "outlinewidth": 0,
             "ticks": ""
            },
            "colorscale": [
             [
              0,
              "#0d0887"
             ],
             [
              0.1111111111111111,
              "#46039f"
             ],
             [
              0.2222222222222222,
              "#7201a8"
             ],
             [
              0.3333333333333333,
              "#9c179e"
             ],
             [
              0.4444444444444444,
              "#bd3786"
             ],
             [
              0.5555555555555556,
              "#d8576b"
             ],
             [
              0.6666666666666666,
              "#ed7953"
             ],
             [
              0.7777777777777778,
              "#fb9f3a"
             ],
             [
              0.8888888888888888,
              "#fdca26"
             ],
             [
              1,
              "#f0f921"
             ]
            ],
            "type": "surface"
           }
          ],
          "table": [
           {
            "cells": {
             "fill": {
              "color": "#EBF0F8"
             },
             "line": {
              "color": "white"
             }
            },
            "header": {
             "fill": {
              "color": "#C8D4E3"
             },
             "line": {
              "color": "white"
             }
            },
            "type": "table"
           }
          ]
         },
         "layout": {
          "annotationdefaults": {
           "arrowcolor": "#2a3f5f",
           "arrowhead": 0,
           "arrowwidth": 1
          },
          "autotypenumbers": "strict",
          "coloraxis": {
           "colorbar": {
            "outlinewidth": 0,
            "ticks": ""
           }
          },
          "colorscale": {
           "diverging": [
            [
             0,
             "#8e0152"
            ],
            [
             0.1,
             "#c51b7d"
            ],
            [
             0.2,
             "#de77ae"
            ],
            [
             0.3,
             "#f1b6da"
            ],
            [
             0.4,
             "#fde0ef"
            ],
            [
             0.5,
             "#f7f7f7"
            ],
            [
             0.6,
             "#e6f5d0"
            ],
            [
             0.7,
             "#b8e186"
            ],
            [
             0.8,
             "#7fbc41"
            ],
            [
             0.9,
             "#4d9221"
            ],
            [
             1,
             "#276419"
            ]
           ],
           "sequential": [
            [
             0,
             "#0d0887"
            ],
            [
             0.1111111111111111,
             "#46039f"
            ],
            [
             0.2222222222222222,
             "#7201a8"
            ],
            [
             0.3333333333333333,
             "#9c179e"
            ],
            [
             0.4444444444444444,
             "#bd3786"
            ],
            [
             0.5555555555555556,
             "#d8576b"
            ],
            [
             0.6666666666666666,
             "#ed7953"
            ],
            [
             0.7777777777777778,
             "#fb9f3a"
            ],
            [
             0.8888888888888888,
             "#fdca26"
            ],
            [
             1,
             "#f0f921"
            ]
           ],
           "sequentialminus": [
            [
             0,
             "#0d0887"
            ],
            [
             0.1111111111111111,
             "#46039f"
            ],
            [
             0.2222222222222222,
             "#7201a8"
            ],
            [
             0.3333333333333333,
             "#9c179e"
            ],
            [
             0.4444444444444444,
             "#bd3786"
            ],
            [
             0.5555555555555556,
             "#d8576b"
            ],
            [
             0.6666666666666666,
             "#ed7953"
            ],
            [
             0.7777777777777778,
             "#fb9f3a"
            ],
            [
             0.8888888888888888,
             "#fdca26"
            ],
            [
             1,
             "#f0f921"
            ]
           ]
          },
          "colorway": [
           "#636efa",
           "#EF553B",
           "#00cc96",
           "#ab63fa",
           "#FFA15A",
           "#19d3f3",
           "#FF6692",
           "#B6E880",
           "#FF97FF",
           "#FECB52"
          ],
          "font": {
           "color": "#2a3f5f"
          },
          "geo": {
           "bgcolor": "white",
           "lakecolor": "white",
           "landcolor": "#E5ECF6",
           "showlakes": true,
           "showland": true,
           "subunitcolor": "white"
          },
          "hoverlabel": {
           "align": "left"
          },
          "hovermode": "closest",
          "mapbox": {
           "style": "light"
          },
          "paper_bgcolor": "white",
          "plot_bgcolor": "#E5ECF6",
          "polar": {
           "angularaxis": {
            "gridcolor": "white",
            "linecolor": "white",
            "ticks": ""
           },
           "bgcolor": "#E5ECF6",
           "radialaxis": {
            "gridcolor": "white",
            "linecolor": "white",
            "ticks": ""
           }
          },
          "scene": {
           "xaxis": {
            "backgroundcolor": "#E5ECF6",
            "gridcolor": "white",
            "gridwidth": 2,
            "linecolor": "white",
            "showbackground": true,
            "ticks": "",
            "zerolinecolor": "white"
           },
           "yaxis": {
            "backgroundcolor": "#E5ECF6",
            "gridcolor": "white",
            "gridwidth": 2,
            "linecolor": "white",
            "showbackground": true,
            "ticks": "",
            "zerolinecolor": "white"
           },
           "zaxis": {
            "backgroundcolor": "#E5ECF6",
            "gridcolor": "white",
            "gridwidth": 2,
            "linecolor": "white",
            "showbackground": true,
            "ticks": "",
            "zerolinecolor": "white"
           }
          },
          "shapedefaults": {
           "line": {
            "color": "#2a3f5f"
           }
          },
          "ternary": {
           "aaxis": {
            "gridcolor": "white",
            "linecolor": "white",
            "ticks": ""
           },
           "baxis": {
            "gridcolor": "white",
            "linecolor": "white",
            "ticks": ""
           },
           "bgcolor": "#E5ECF6",
           "caxis": {
            "gridcolor": "white",
            "linecolor": "white",
            "ticks": ""
           }
          },
          "title": {
           "x": 0.05
          },
          "xaxis": {
           "automargin": true,
           "gridcolor": "white",
           "linecolor": "white",
           "ticks": "",
           "title": {
            "standoff": 15
           },
           "zerolinecolor": "white",
           "zerolinewidth": 2
          },
          "yaxis": {
           "automargin": true,
           "gridcolor": "white",
           "linecolor": "white",
           "ticks": "",
           "title": {
            "standoff": 15
           },
           "zerolinecolor": "white",
           "zerolinewidth": 2
          }
         }
        },
        "title": {
         "text": "Satoshis per Canadian Dollar"
        },
        "xaxis": {
         "anchor": "y",
         "domain": [
          0,
          1
         ],
         "title": {
          "text": "Date"
         }
        },
        "yaxis": {
         "anchor": "x",
         "domain": [
          0,
          1
         ],
         "title": {
          "text": "Satoshis per CAD$"
         }
        }
       }
      }
     },
     "metadata": {},
     "output_type": "display_data"
    }
   ],
   "source": [
    "# Area chart\n",
    "\n",
    "area_chart = px.area(SATSCAD_df['Close'], title = 'Satoshis per Canadian Dollar', color_discrete_map={\"Close\": \"DarkOrange\"})\n",
    "\n",
    "area_chart.update_xaxes(title_text = 'Date')\n",
    "area_chart.update_yaxes(title_text = 'Satoshis per CAD$')\n",
    "area_chart.update_layout(showlegend = False)\n",
    "\n",
    "area_chart.show()"
   ]
  },
  {
   "cell_type": "code",
   "execution_count": 6,
   "metadata": {},
   "outputs": [],
   "source": [
    "area_chart.write_image(\"images/SatsPerCAD_weekely.png\")"
   ]
  },
  {
   "cell_type": "code",
   "execution_count": 7,
   "metadata": {},
   "outputs": [
    {
     "ename": "Forbidden",
     "evalue": "403 Forbidden\nYou are not allowed to create a Tweet with duplicate content.",
     "output_type": "error",
     "traceback": [
      "\u001b[1;31m---------------------------------------------------------------------------\u001b[0m",
      "\u001b[1;31mForbidden\u001b[0m                                 Traceback (most recent call last)",
      "Cell \u001b[1;32mIn[7], line 56\u001b[0m\n\u001b[0;32m     53\u001b[0m \u001b[38;5;66;03m# adding the tweet content in a multiline string. The {mydays} part is updated dynamically as the number of days from 6th Nov, 2023\u001b[39;00m\n\u001b[0;32m     54\u001b[0m sampletweet \u001b[38;5;241m=\u001b[39m \u001b[38;5;124mf\u001b[39m\u001b[38;5;124m\"\"\"\u001b[39m\u001b[38;5;124mtest2\u001b[39m\u001b[38;5;124m\"\"\"\u001b[39m\n\u001b[1;32m---> 56\u001b[0m \u001b[43mnewapi\u001b[49m\u001b[38;5;241;43m.\u001b[39;49m\u001b[43mcreate_tweet\u001b[49m\u001b[43m(\u001b[49m\u001b[43mtext\u001b[49m\u001b[38;5;241;43m=\u001b[39;49m\u001b[43msampletweet\u001b[49m\u001b[43m)\u001b[49m\n\u001b[0;32m     58\u001b[0m \u001b[38;5;66;03m# I add the screenshot in the same directory as the code and add only one image. Since it is a screenshot taken using windows Snip, it is in png\u001b[39;00m\n\u001b[0;32m     59\u001b[0m \u001b[38;5;66;03m#for images in os.listdir(os.path.abspath(os.path.dirname(__file__))):\u001b[39;00m\n\u001b[0;32m     60\u001b[0m \u001b[38;5;66;03m##    # check if the image ends with png and take the first image that you find\u001b[39;00m\n\u001b[1;32m   (...)\u001b[0m\n\u001b[0;32m     80\u001b[0m \u001b[38;5;66;03m#    ),\u001b[39;00m\n\u001b[0;32m     81\u001b[0m \u001b[38;5;66;03m#)\u001b[39;00m\n",
      "File \u001b[1;32mc:\\Users\\philb\\AppData\\Local\\Programs\\Python\\Python312\\Lib\\site-packages\\tweepy\\client.py:835\u001b[0m, in \u001b[0;36mClient.create_tweet\u001b[1;34m(self, direct_message_deep_link, for_super_followers_only, place_id, media_ids, media_tagged_user_ids, poll_duration_minutes, poll_options, quote_tweet_id, exclude_reply_user_ids, in_reply_to_tweet_id, reply_settings, text, user_auth)\u001b[0m\n\u001b[0;32m    832\u001b[0m \u001b[38;5;28;01mif\u001b[39;00m text \u001b[38;5;129;01mis\u001b[39;00m \u001b[38;5;129;01mnot\u001b[39;00m \u001b[38;5;28;01mNone\u001b[39;00m:\n\u001b[0;32m    833\u001b[0m     json[\u001b[38;5;124m\"\u001b[39m\u001b[38;5;124mtext\u001b[39m\u001b[38;5;124m\"\u001b[39m] \u001b[38;5;241m=\u001b[39m text\n\u001b[1;32m--> 835\u001b[0m \u001b[38;5;28;01mreturn\u001b[39;00m \u001b[38;5;28;43mself\u001b[39;49m\u001b[38;5;241;43m.\u001b[39;49m\u001b[43m_make_request\u001b[49m\u001b[43m(\u001b[49m\n\u001b[0;32m    836\u001b[0m \u001b[43m    \u001b[49m\u001b[38;5;124;43m\"\u001b[39;49m\u001b[38;5;124;43mPOST\u001b[39;49m\u001b[38;5;124;43m\"\u001b[39;49m\u001b[43m,\u001b[49m\u001b[43m \u001b[49m\u001b[38;5;124;43mf\u001b[39;49m\u001b[38;5;124;43m\"\u001b[39;49m\u001b[38;5;124;43m/2/tweets\u001b[39;49m\u001b[38;5;124;43m\"\u001b[39;49m\u001b[43m,\u001b[49m\u001b[43m \u001b[49m\u001b[43mjson\u001b[49m\u001b[38;5;241;43m=\u001b[39;49m\u001b[43mjson\u001b[49m\u001b[43m,\u001b[49m\u001b[43m \u001b[49m\u001b[43muser_auth\u001b[49m\u001b[38;5;241;43m=\u001b[39;49m\u001b[43muser_auth\u001b[49m\n\u001b[0;32m    837\u001b[0m \u001b[43m\u001b[49m\u001b[43m)\u001b[49m\n",
      "File \u001b[1;32mc:\\Users\\philb\\AppData\\Local\\Programs\\Python\\Python312\\Lib\\site-packages\\tweepy\\client.py:129\u001b[0m, in \u001b[0;36mBaseClient._make_request\u001b[1;34m(self, method, route, params, endpoint_parameters, json, data_type, user_auth)\u001b[0m\n\u001b[0;32m    123\u001b[0m \u001b[38;5;28;01mdef\u001b[39;00m \u001b[38;5;21m_make_request\u001b[39m(\n\u001b[0;32m    124\u001b[0m     \u001b[38;5;28mself\u001b[39m, method, route, params\u001b[38;5;241m=\u001b[39m{}, endpoint_parameters\u001b[38;5;241m=\u001b[39m(), json\u001b[38;5;241m=\u001b[39m\u001b[38;5;28;01mNone\u001b[39;00m,\n\u001b[0;32m    125\u001b[0m     data_type\u001b[38;5;241m=\u001b[39m\u001b[38;5;28;01mNone\u001b[39;00m, user_auth\u001b[38;5;241m=\u001b[39m\u001b[38;5;28;01mFalse\u001b[39;00m\n\u001b[0;32m    126\u001b[0m ):\n\u001b[0;32m    127\u001b[0m     request_params \u001b[38;5;241m=\u001b[39m \u001b[38;5;28mself\u001b[39m\u001b[38;5;241m.\u001b[39m_process_params(params, endpoint_parameters)\n\u001b[1;32m--> 129\u001b[0m     response \u001b[38;5;241m=\u001b[39m \u001b[38;5;28;43mself\u001b[39;49m\u001b[38;5;241;43m.\u001b[39;49m\u001b[43mrequest\u001b[49m\u001b[43m(\u001b[49m\u001b[43mmethod\u001b[49m\u001b[43m,\u001b[49m\u001b[43m \u001b[49m\u001b[43mroute\u001b[49m\u001b[43m,\u001b[49m\u001b[43m \u001b[49m\u001b[43mparams\u001b[49m\u001b[38;5;241;43m=\u001b[39;49m\u001b[43mrequest_params\u001b[49m\u001b[43m,\u001b[49m\n\u001b[0;32m    130\u001b[0m \u001b[43m                            \u001b[49m\u001b[43mjson\u001b[49m\u001b[38;5;241;43m=\u001b[39;49m\u001b[43mjson\u001b[49m\u001b[43m,\u001b[49m\u001b[43m \u001b[49m\u001b[43muser_auth\u001b[49m\u001b[38;5;241;43m=\u001b[39;49m\u001b[43muser_auth\u001b[49m\u001b[43m)\u001b[49m\n\u001b[0;32m    132\u001b[0m     \u001b[38;5;28;01mif\u001b[39;00m \u001b[38;5;28mself\u001b[39m\u001b[38;5;241m.\u001b[39mreturn_type \u001b[38;5;129;01mis\u001b[39;00m requests\u001b[38;5;241m.\u001b[39mResponse:\n\u001b[0;32m    133\u001b[0m         \u001b[38;5;28;01mreturn\u001b[39;00m response\n",
      "File \u001b[1;32mc:\\Users\\philb\\AppData\\Local\\Programs\\Python\\Python312\\Lib\\site-packages\\tweepy\\client.py:100\u001b[0m, in \u001b[0;36mBaseClient.request\u001b[1;34m(self, method, route, params, json, user_auth)\u001b[0m\n\u001b[0;32m     98\u001b[0m     \u001b[38;5;28;01mraise\u001b[39;00m Unauthorized(response)\n\u001b[0;32m     99\u001b[0m \u001b[38;5;28;01mif\u001b[39;00m response\u001b[38;5;241m.\u001b[39mstatus_code \u001b[38;5;241m==\u001b[39m \u001b[38;5;241m403\u001b[39m:\n\u001b[1;32m--> 100\u001b[0m     \u001b[38;5;28;01mraise\u001b[39;00m Forbidden(response)\n\u001b[0;32m    101\u001b[0m \u001b[38;5;28;01mif\u001b[39;00m response\u001b[38;5;241m.\u001b[39mstatus_code \u001b[38;5;241m==\u001b[39m \u001b[38;5;241m404\u001b[39m:\n\u001b[0;32m    102\u001b[0m     \u001b[38;5;28;01mraise\u001b[39;00m NotFound(response)\n",
      "\u001b[1;31mForbidden\u001b[0m: 403 Forbidden\nYou are not allowed to create a Tweet with duplicate content."
     ]
    }
   ],
   "source": [
    "import tweepy\n",
    "# the below import is for calculating date. Not needed for you but I needed it.\n",
    "from datetime import date\n",
    "import shutil, pathlib, os\n",
    "\n",
    "# take these from developer.twitter.com\n",
    "from auth import (\n",
    "    CONSUMER_KEY, \n",
    "    CONSUMER_SECRET, \n",
    "    ACCESS_KEY, \n",
    "    ACCESS_SECRET, \n",
    "    BEARER_TOKEN, \n",
    "    CLIENT_ID, \n",
    "    CLIENT_ID_SECRET\n",
    ")\n",
    "\n",
    "#CONSUMER_KEY = 's5H3hUMYvaWmSnGxsCX2a4vet'\n",
    "#CONSUMER_SECRET = 'YS4zT4ifDM15n97Ifvnd0dF0t1BobVcdDOX2WfwaJycL9vPwO2'\n",
    "\n",
    "#ACCESS_KEY = '1620163513691025409-vlqYXmjLKcvCybGyQOcIb9YN51oIgi'\n",
    "#ACCESS_SECRET = 'EC8zWdtonTbigEmDKrbi4ipvlMzlM5Q0ToBG8f7BjyVoU'\n",
    "\n",
    "#BEARER_TOKEN = 'AAAAAAAAAAAAAAAAAAAAAGSnuwEAAAAAuxh1ICSpy%2BkNHAfmc%2BsWKRtXFkE%3DxVCydOgI7ztOg5IrQYcghRLiqYF7nrk8dIsOo77aAr9SW6BuKT'\n",
    "\n",
    "#CLIENT_ID = 'UHlBeVNLaU5Za2F6V3JpMkw0NjM6MTpjaQ'\n",
    "#CLIENT_ID_SECRET = 'v2Ms1N2ggjSVDoP0iwa_ZW2tfHO6BgbTmEy-pKIb4cLdxL9XKb'\n",
    "\n",
    "# Since I started the event for 30daysofJS on Nov 6 and I wanted to include this is day X in my tweet dynamically, \n",
    "# I am setting up the date logic part. This is totally optional.\n",
    "startdate = date(2023, 11, 6)\n",
    "today = date.today()\n",
    "mydays = (today - startdate).days + 1\n",
    "# End of optional part\n",
    "\n",
    "# Authenticate to Twitter\n",
    "auth = tweepy.OAuthHandler(CONSUMER_KEY, CONSUMER_SECRET)\n",
    "auth.set_access_token(\n",
    "    ACCESS_KEY,\n",
    "    ACCESS_SECRET,\n",
    ")\n",
    "# this is the syntax for twitter API 2.0. It uses the client credentials that we created\n",
    "newapi = tweepy.Client(\n",
    "    bearer_token=BEARER_TOKEN,\n",
    "    access_token=ACCESS_KEY,\n",
    "    access_token_secret=ACCESS_SECRET,\n",
    "    consumer_key=CONSUMER_KEY,\n",
    "    consumer_secret=CONSUMER_SECRET,\n",
    ")\n",
    "\n",
    "# Create API object using the old twitter APIv1.1\n",
    "api = tweepy.API(auth)\n",
    "\n",
    "# adding the tweet content in a multiline string. The {mydays} part is updated dynamically as the number of days from 6th Nov, 2023\n",
    "sampletweet = f\"\"\"test2\"\"\"\n",
    "\n",
    "newapi.create_tweet(text=sampletweet)\n",
    "\n",
    "# I add the screenshot in the same directory as the code and add only one image. Since it is a screenshot taken using windows Snip, it is in png\n",
    "#for images in os.listdir(os.path.abspath(os.path.dirname(__file__))):\n",
    "##    # check if the image ends with png and take the first image that you find\n",
    "  #  if images.endswith(\".png\"):\n",
    "   #     img = images\n",
    "    #    break\n",
    "\n",
    "# upload the media using the old api\n",
    "#media = api.media_upload(os.path.join(os.path.abspath(os.path.dirname(__file__)), img))\n",
    "# create the tweet using the new api. Mention the image uploaded via the old api\n",
    "#post_result = newapi.create_tweet(text=sampletweet, media_ids=[media.media_id])\n",
    "# the following line prints the response that you receive from the API. You can save it or process it in anyway u want. I am just printing it.\n",
    "#print(post_result)\n",
    "# get the file extension. This would be png by default but I was experimenting with different images. Will update this if required\n",
    "#file_extension = pathlib.Path(img).suffix\n",
    "# Move the image to archives folder and rename it as per the date it was uploaded. I am only adding one post per day so this makes more sense\n",
    "#shutil.move(\n",
    "#    os.path.join(os.path.abspath(os.path.dirname(__file__)), img),\n",
    "##    os.path.join(\n",
    " #       os.path.abspath(os.path.dirname(__file__)),\n",
    " #       \"archives\",\n",
    "  #      today.strftime(\"%Y%m%d\") + file_extension,\n",
    "#    ),\n",
    "#)"
   ]
  },
  {
   "cell_type": "code",
   "execution_count": null,
   "metadata": {},
   "outputs": [],
   "source": []
  }
 ],
 "metadata": {
  "kernelspec": {
   "display_name": "Python 3",
   "language": "python",
   "name": "python3"
  },
  "language_info": {
   "codemirror_mode": {
    "name": "ipython",
    "version": 3
   },
   "file_extension": ".py",
   "mimetype": "text/x-python",
   "name": "python",
   "nbconvert_exporter": "python",
   "pygments_lexer": "ipython3",
   "version": "3.12.2"
  }
 },
 "nbformat": 4,
 "nbformat_minor": 4
}
